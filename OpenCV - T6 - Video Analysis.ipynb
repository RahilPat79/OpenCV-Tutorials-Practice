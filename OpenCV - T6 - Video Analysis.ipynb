{
 "cells": [
  {
   "cell_type": "code",
   "execution_count": 36,
   "metadata": {},
   "outputs": [
    {
     "ename": "error",
     "evalue": "OpenCV(3.4.3) C:\\projects\\opencv-python\\opencv\\modules\\core\\src\\matrix.cpp:756: error: (-215:Assertion failed) dims <= 2 && step[0] > 0 in function 'cv::Mat::locateROI'\n",
     "output_type": "error",
     "traceback": [
      "\u001b[1;31m---------------------------------------------------------------------------\u001b[0m",
      "\u001b[1;31merror\u001b[0m                                     Traceback (most recent call last)",
      "\u001b[1;32m<ipython-input-36-c4f1e5fce48b>\u001b[0m in \u001b[0;36m<module>\u001b[1;34m\u001b[0m\n\u001b[0;32m     12\u001b[0m \u001b[1;33m\u001b[0m\u001b[0m\n\u001b[0;32m     13\u001b[0m     \u001b[0mfgmask\u001b[0m \u001b[1;33m=\u001b[0m \u001b[0mfgbg\u001b[0m\u001b[1;33m.\u001b[0m\u001b[0mapply\u001b[0m\u001b[1;33m(\u001b[0m\u001b[0mframe\u001b[0m\u001b[1;33m)\u001b[0m\u001b[1;33m\u001b[0m\u001b[0m\n\u001b[1;32m---> 14\u001b[1;33m     \u001b[0mfgmask\u001b[0m \u001b[1;33m=\u001b[0m \u001b[0mcv2\u001b[0m\u001b[1;33m.\u001b[0m\u001b[0mmorphologyEx\u001b[0m\u001b[1;33m(\u001b[0m\u001b[0mfgmask\u001b[0m\u001b[1;33m,\u001b[0m \u001b[0mcv2\u001b[0m\u001b[1;33m.\u001b[0m\u001b[0mMORPH_OPEN\u001b[0m\u001b[1;33m,\u001b[0m \u001b[0mkernel\u001b[0m\u001b[1;33m)\u001b[0m\u001b[1;33m\u001b[0m\u001b[0m\n\u001b[0m\u001b[0;32m     15\u001b[0m     output = cv2.connectedComponentsWithStats(\n\u001b[0;32m     16\u001b[0m         fgmask, 4, cv2.CV_32S)\n",
      "\u001b[1;31merror\u001b[0m: OpenCV(3.4.3) C:\\projects\\opencv-python\\opencv\\modules\\core\\src\\matrix.cpp:756: error: (-215:Assertion failed) dims <= 2 && step[0] > 0 in function 'cv::Mat::locateROI'\n"
     ]
    }
   ],
   "source": [
    "import numpy as np\n",
    "import cv2\n",
    "cap=cv2.VideoCapture(r'C:\\Users\\rahil\\Desktop\\Tensor Flow\\videoplayback.mp4') #0 to play from camera\n",
    "#fgbg = cv2.createBackgroundSubtractorMOG()\n",
    "fgbg = cv2.createBackgroundSubtractorMOG2()\n",
    "#kernel = np.ones((5,5))\n",
    "min_thresh=800\n",
    "max_thresh=10000\n",
    "kernel = cv2.getStructuringElement(cv2.MORPH_ELLIPSE, (3, 3))\n",
    "while(1):\n",
    "    ret,frame = cap.read()\n",
    "    \n",
    "    fgmask = fgbg.apply(frame)\n",
    "    fgmask = cv2.morphologyEx(fgmask, cv2.MORPH_OPEN, kernel)\n",
    "    output = cv2.connectedComponentsWithStats(\n",
    "        fgmask, 4, cv2.CV_32S)\n",
    "    new=cv2.cvtColor(fgmask, cv2.COLOR_GRAY2BGR)\n",
    "    for i in range(output[0]):\n",
    "        if output[2][i][4] >= min_thresh and output[2][i][4] <= max_thresh:\n",
    "            cv2.rectangle(frame, (output[2][i][0], output[2][i][1]), (\n",
    "                output[2][i][0] + output[2][i][2], output[2][i][1] + output[2][i][3]), (10 , 255, 0), 2)\n",
    "            \n",
    "    dst=cv2.addWeighted(frame,0.6,new,0.4,0)\n",
    "    cv2.imshow('frame',dst)\n",
    "    k=cv2.waitKey(30) & 0xff\n",
    "    if k == 27:\n",
    "        break\n",
    "cap.release()\n",
    "cv2.destroyAllWindows()"
   ]
  },
  {
   "cell_type": "code",
   "execution_count": 20,
   "metadata": {},
   "outputs": [],
   "source": [
    "min_thresh=800\n",
    "max_thresh=10000\n",
    "kernel = cv2.getStructuringElement(cv2.MORPH_ELLIPSE, (3, 3))\n",
    "fgbg = cv2.createBackgroundSubtractorMOG2()\n",
    "connectivity = 4\n",
    "while(1):\n",
    "    ret, frame = cap.read()\n",
    "    if not ret:\n",
    "        break\n",
    "    fgmask = fgbg.apply(frame)\n",
    "    fgmask = cv2.morphologyEx(fgmask, cv2.MORPH_OPEN, kernel)\n",
    "    output = cv2.connectedComponentsWithStats(\n",
    "        fgmask, connectivity, cv2.CV_32S)\n",
    "    for i in range(output[0]):\n",
    "        if output[2][i][4] >= min_thresh and output[2][i][4] <= max_thresh:\n",
    "            cv2.rectangle(frame, (output[2][i][0], output[2][i][1]), (\n",
    "                output[2][i][0] + output[2][i][2], output[2][i][1] + output[2][i][3]), (0, 255, 0), 2)\n",
    "    cv2.imshow('detection', frame)\n",
    "cap.release()\n",
    "cv2.destroyAllWindows() "
   ]
  },
  {
   "cell_type": "code",
   "execution_count": null,
   "metadata": {},
   "outputs": [],
   "source": []
  }
 ],
 "metadata": {
  "kernelspec": {
   "display_name": "Python 3",
   "language": "python",
   "name": "python3"
  },
  "language_info": {
   "codemirror_mode": {
    "name": "ipython",
    "version": 3
   },
   "file_extension": ".py",
   "mimetype": "text/x-python",
   "name": "python",
   "nbconvert_exporter": "python",
   "pygments_lexer": "ipython3",
   "version": "3.6.5"
  }
 },
 "nbformat": 4,
 "nbformat_minor": 2
}
